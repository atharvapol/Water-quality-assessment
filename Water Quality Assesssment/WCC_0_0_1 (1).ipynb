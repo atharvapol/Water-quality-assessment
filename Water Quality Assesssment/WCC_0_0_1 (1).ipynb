{
  "nbformat": 4,
  "nbformat_minor": 0,
  "metadata": {
    "colab": {
      "name": "WCC_0_0_1.ipynb",
      "provenance": [],
      "collapsed_sections": []
    },
    "kernelspec": {
      "name": "python3",
      "display_name": "Python 3"
    },
    "accelerator": "TPU"
  },
  "cells": [
    {
      "cell_type": "markdown",
      "metadata": {
        "id": "UB1rUCfyG-Br"
      },
      "source": [
        "Importing Libraries"
      ]
    },
    {
      "cell_type": "code",
      "metadata": {
        "id": "K3pq7XF1HDvb"
      },
      "source": [
        "import numpy as np\r\n",
        "import matplotlib.pyplot as plt\r\n",
        "import tensorflow as tf\r\n",
        "\r\n",
        "from tensorflow import keras\r\n",
        "from tensorflow.keras import layers\r\n",
        "from tensorflow.keras.models import Sequential\r\n",
        "from keras.layers import Dense"
      ],
      "execution_count": 74,
      "outputs": []
    },
    {
      "cell_type": "markdown",
      "metadata": {
        "id": "-LemQ3-mHi5L"
      },
      "source": [
        "Importing Raw Data"
      ]
    },
    {
      "cell_type": "code",
      "metadata": {
        "id": "LxwYAi3ZHsFS"
      },
      "source": [
        "data_dir = '/content/drive/MyDrive/Water_quality/Colour'"
      ],
      "execution_count": 60,
      "outputs": []
    },
    {
      "cell_type": "markdown",
      "metadata": {
        "id": "BwXkZWp8IARL"
      },
      "source": [
        "Defining dataset "
      ]
    },
    {
      "cell_type": "code",
      "metadata": {
        "id": "hDYmQ2GUILG5"
      },
      "source": [
        "batch_size = 32\r\n",
        "img_height = 180\r\n",
        "img_width = 180"
      ],
      "execution_count": 61,
      "outputs": []
    },
    {
      "cell_type": "markdown",
      "metadata": {
        "id": "YxzChWhWIrFx"
      },
      "source": [
        "Training and Testing dataset generation"
      ]
    },
    {
      "cell_type": "code",
      "metadata": {
        "id": "kmPg6A55Iy6f",
        "colab": {
          "base_uri": "https://localhost:8080/"
        },
        "outputId": "2354080c-4a40-4962-ce11-7d105a33cc5c"
      },
      "source": [
        "train_ds = tf.keras.preprocessing.image_dataset_from_directory(\r\n",
        "    data_dir,\r\n",
        "    validation_split = 0.25,\r\n",
        "    subset = \"training\",\r\n",
        "    seed = 123,\r\n",
        "    image_size = (img_height, img_width),\r\n",
        "    batch_size = batch_size\r\n",
        ")\r\n",
        "\r\n",
        "val_ds = tf.keras.preprocessing.image_dataset_from_directory(\r\n",
        "    data_dir,\r\n",
        "    validation_split = 0.25,\r\n",
        "    subset = \"validation\",\r\n",
        "    seed = 123,\r\n",
        "    image_size = (img_height, img_width),\r\n",
        "    batch_size = batch_size\r\n",
        ")"
      ],
      "execution_count": 62,
      "outputs": [
        {
          "output_type": "stream",
          "text": [
            "Found 850 files belonging to 6 classes.\n",
            "Using 638 files for training.\n",
            "Found 850 files belonging to 6 classes.\n",
            "Using 212 files for validation.\n"
          ],
          "name": "stdout"
        }
      ]
    },
    {
      "cell_type": "markdown",
      "metadata": {
        "id": "cc9T6v91MWSm"
      },
      "source": [
        "Label generation"
      ]
    },
    {
      "cell_type": "code",
      "metadata": {
        "colab": {
          "base_uri": "https://localhost:8080/"
        },
        "id": "LLm0ugtKMNNW",
        "outputId": "37b3aa81-6efe-401f-83dd-354d079496c7"
      },
      "source": [
        "class_names = train_ds.class_names\r\n",
        "print(class_names)"
      ],
      "execution_count": 63,
      "outputs": [
        {
          "output_type": "stream",
          "text": [
            "['Black', 'Blue', 'Brown', 'Green', 'Red', 'White']\n"
          ],
          "name": "stdout"
        }
      ]
    },
    {
      "cell_type": "markdown",
      "metadata": {
        "id": "8RAo3MSEPDYH"
      },
      "source": [
        "Auto-tune and Data agumentation"
      ]
    },
    {
      "cell_type": "code",
      "metadata": {
        "id": "tRoaK9TzPILZ"
      },
      "source": [
        "AUTOTUNE = tf.data.experimental.AUTOTUNE\r\n",
        "\r\n",
        "train_ds = train_ds.cache().shuffle(1000).prefetch(buffer_size=AUTOTUNE)\r\n",
        "val_ds = val_ds.cache().prefetch(buffer_size=AUTOTUNE)\r\n",
        "\r\n",
        "data_augmentation = keras.Sequential(\r\n",
        "  [\r\n",
        "    layers.experimental.preprocessing.RandomFlip(\"horizontal\", input_shape = (img_height, img_width,3)),\r\n",
        "    layers.experimental.preprocessing.RandomContrast(0.1),\r\n",
        "    layers.experimental.preprocessing.RandomRotation(0.1),\r\n",
        "    layers.experimental.preprocessing.RandomZoom(0.1),\r\n",
        "  ]\r\n",
        ")"
      ],
      "execution_count": 64,
      "outputs": []
    },
    {
      "cell_type": "markdown",
      "metadata": {
        "id": "yU_Of0D9LkiE"
      },
      "source": [
        "Defining model"
      ]
    },
    {
      "cell_type": "code",
      "metadata": {
        "id": "gVAmCK1yLonU"
      },
      "source": [
        "num_classes = 6\r\n",
        "\r\n",
        "my_model = Sequential([\r\n",
        "                    data_augmentation,\r\n",
        "                    layers.experimental.preprocessing.Rescaling(1./255, input_shape=(img_height, img_width, 3)),\r\n",
        "                    layers.Conv2D(16, 3, padding = 'same', activation = 'relu'),\r\n",
        "                    layers.MaxPooling2D(),\r\n",
        "                    layers.Conv2D(32, 3, padding = 'same', activation = 'relu'),\r\n",
        "                    layers.MaxPooling2D(),\r\n",
        "                    layers.Conv2D(64, 3, padding = 'same', activation = 'relu'),\r\n",
        "                    layers.MaxPooling2D(),\r\n",
        "                    layers.Dropout(0.2),\r\n",
        "                    layers.Flatten(),\r\n",
        "                    layers.Dense(128, activation = 'relu'),\r\n",
        "                    layers.Dense(num_classes)\r\n",
        "\r\n",
        "])"
      ],
      "execution_count": 78,
      "outputs": []
    },
    {
      "cell_type": "markdown",
      "metadata": {
        "id": "I4-oAsmTNpxT"
      },
      "source": [
        "Model Compilation and Summary"
      ]
    },
    {
      "cell_type": "code",
      "metadata": {
        "id": "ZDabEbM1NtlM",
        "colab": {
          "base_uri": "https://localhost:8080/"
        },
        "outputId": "64e95a51-15bc-4133-97c1-a43a70dc2d77"
      },
      "source": [
        "model.compile(optimizer = 'adam',\r\n",
        "              loss = tf.keras.losses.SparseCategoricalCrossentropy(from_logits = True),\r\n",
        "              metrics = ['accuracy'])\r\n",
        "model.summary()"
      ],
      "execution_count": 66,
      "outputs": [
        {
          "output_type": "stream",
          "text": [
            "Model: \"sequential_9\"\n",
            "_________________________________________________________________\n",
            "Layer (type)                 Output Shape              Param #   \n",
            "=================================================================\n",
            "sequential_8 (Sequential)    (None, 180, 180, 3)       0         \n",
            "_________________________________________________________________\n",
            "rescaling_4 (Rescaling)      (None, 180, 180, 3)       0         \n",
            "_________________________________________________________________\n",
            "conv2d_12 (Conv2D)           (None, 180, 180, 16)      448       \n",
            "_________________________________________________________________\n",
            "max_pooling2d_12 (MaxPooling (None, 90, 90, 16)        0         \n",
            "_________________________________________________________________\n",
            "conv2d_13 (Conv2D)           (None, 90, 90, 32)        4640      \n",
            "_________________________________________________________________\n",
            "max_pooling2d_13 (MaxPooling (None, 45, 45, 32)        0         \n",
            "_________________________________________________________________\n",
            "conv2d_14 (Conv2D)           (None, 45, 45, 64)        18496     \n",
            "_________________________________________________________________\n",
            "max_pooling2d_14 (MaxPooling (None, 22, 22, 64)        0         \n",
            "_________________________________________________________________\n",
            "dropout_4 (Dropout)          (None, 22, 22, 64)        0         \n",
            "_________________________________________________________________\n",
            "flatten_4 (Flatten)          (None, 30976)             0         \n",
            "_________________________________________________________________\n",
            "dense_8 (Dense)              (None, 128)               3965056   \n",
            "_________________________________________________________________\n",
            "dense_9 (Dense)              (None, 6)                 774       \n",
            "=================================================================\n",
            "Total params: 3,989,414\n",
            "Trainable params: 3,989,414\n",
            "Non-trainable params: 0\n",
            "_________________________________________________________________\n"
          ],
          "name": "stdout"
        }
      ]
    },
    {
      "cell_type": "markdown",
      "metadata": {
        "id": "lJEgX1YlQ8Z_"
      },
      "source": [
        "Training"
      ]
    },
    {
      "cell_type": "code",
      "metadata": {
        "id": "xEUWcCZlQ-7k",
        "colab": {
          "base_uri": "https://localhost:8080/"
        },
        "outputId": "2486faff-2559-4561-cde9-578b401d00eb"
      },
      "source": [
        "epochs = 20\r\n",
        "history = model.fit(\r\n",
        "  train_ds,\r\n",
        "  validation_data = val_ds,\r\n",
        "  epochs=epochs\r\n",
        ")"
      ],
      "execution_count": 67,
      "outputs": [
        {
          "output_type": "stream",
          "text": [
            "Epoch 1/20\n",
            "20/20 [==============================] - 37s 1s/step - loss: 1.5564 - accuracy: 0.4930 - val_loss: 0.6403 - val_accuracy: 0.7736\n",
            "Epoch 2/20\n",
            "20/20 [==============================] - 25s 1s/step - loss: 0.5283 - accuracy: 0.8274 - val_loss: 0.4432 - val_accuracy: 0.8396\n",
            "Epoch 3/20\n",
            "20/20 [==============================] - 25s 1s/step - loss: 0.4780 - accuracy: 0.8310 - val_loss: 0.3844 - val_accuracy: 0.8491\n",
            "Epoch 4/20\n",
            "20/20 [==============================] - 25s 1s/step - loss: 0.3239 - accuracy: 0.8658 - val_loss: 0.3415 - val_accuracy: 0.8774\n",
            "Epoch 5/20\n",
            "20/20 [==============================] - 24s 1s/step - loss: 0.3462 - accuracy: 0.8740 - val_loss: 0.3367 - val_accuracy: 0.8868\n",
            "Epoch 6/20\n",
            "20/20 [==============================] - 24s 1s/step - loss: 0.3303 - accuracy: 0.8692 - val_loss: 0.3177 - val_accuracy: 0.9104\n",
            "Epoch 7/20\n",
            "20/20 [==============================] - 24s 1s/step - loss: 0.2617 - accuracy: 0.8870 - val_loss: 0.2840 - val_accuracy: 0.8821\n",
            "Epoch 8/20\n",
            "20/20 [==============================] - 24s 1s/step - loss: 0.2127 - accuracy: 0.9282 - val_loss: 0.3921 - val_accuracy: 0.8915\n",
            "Epoch 9/20\n",
            "20/20 [==============================] - 24s 1s/step - loss: 0.2740 - accuracy: 0.9042 - val_loss: 0.3737 - val_accuracy: 0.8679\n",
            "Epoch 10/20\n",
            "20/20 [==============================] - 24s 1s/step - loss: 0.2052 - accuracy: 0.9284 - val_loss: 0.3663 - val_accuracy: 0.8868\n",
            "Epoch 11/20\n",
            "20/20 [==============================] - 24s 1s/step - loss: 0.2021 - accuracy: 0.9201 - val_loss: 0.2498 - val_accuracy: 0.9151\n",
            "Epoch 12/20\n",
            "20/20 [==============================] - 24s 1s/step - loss: 0.1775 - accuracy: 0.9332 - val_loss: 0.2793 - val_accuracy: 0.9198\n",
            "Epoch 13/20\n",
            "20/20 [==============================] - 24s 1s/step - loss: 0.2078 - accuracy: 0.9143 - val_loss: 0.2611 - val_accuracy: 0.9151\n",
            "Epoch 14/20\n",
            "20/20 [==============================] - 24s 1s/step - loss: 0.1745 - accuracy: 0.9272 - val_loss: 0.3819 - val_accuracy: 0.8915\n",
            "Epoch 15/20\n",
            "20/20 [==============================] - 24s 1s/step - loss: 0.2409 - accuracy: 0.9089 - val_loss: 0.3256 - val_accuracy: 0.9057\n",
            "Epoch 16/20\n",
            "20/20 [==============================] - 24s 1s/step - loss: 0.2078 - accuracy: 0.9211 - val_loss: 0.4557 - val_accuracy: 0.8726\n",
            "Epoch 17/20\n",
            "20/20 [==============================] - 24s 1s/step - loss: 0.2074 - accuracy: 0.9164 - val_loss: 0.3274 - val_accuracy: 0.8821\n",
            "Epoch 18/20\n",
            "20/20 [==============================] - 24s 1s/step - loss: 0.2281 - accuracy: 0.9212 - val_loss: 0.3779 - val_accuracy: 0.9057\n",
            "Epoch 19/20\n",
            "20/20 [==============================] - 24s 1s/step - loss: 0.2171 - accuracy: 0.9427 - val_loss: 0.3460 - val_accuracy: 0.9104\n",
            "Epoch 20/20\n",
            "20/20 [==============================] - 24s 1s/step - loss: 0.1390 - accuracy: 0.9506 - val_loss: 0.4038 - val_accuracy: 0.8726\n"
          ],
          "name": "stdout"
        }
      ]
    },
    {
      "cell_type": "markdown",
      "metadata": {
        "id": "R27wmZtcRIKC"
      },
      "source": [
        "Visualize training results"
      ]
    },
    {
      "cell_type": "code",
      "metadata": {
        "id": "4izywrCiRKCy",
        "colab": {
          "base_uri": "https://localhost:8080/",
          "height": 566
        },
        "outputId": "d39ba3d2-0ed5-4a36-c91f-5c02f0ca8507"
      },
      "source": [
        "acc = history.history['accuracy']\r\n",
        "val_acc = history.history['val_accuracy']\r\n",
        "\r\n",
        "loss = history.history['loss']\r\n",
        "val_loss = history.history['val_loss']\r\n",
        "\r\n",
        "epochs_range = range(epochs)\r\n",
        "\r\n",
        "plt.figure(figsize=(8, 8))\r\n",
        "plt.subplot(1, 2, 1)\r\n",
        "plt.plot(epochs_range, acc, label='Training Accuracy')\r\n",
        "plt.plot(epochs_range, val_acc, label='Validation Accuracy')\r\n",
        "plt.legend(loc='lower right')\r\n",
        "plt.title('Training and Validation Accuracy')\r\n",
        "\r\n",
        "plt.subplot(1, 2, 2)\r\n",
        "plt.plot(epochs_range, loss, label='Training Loss')\r\n",
        "plt.plot(epochs_range, val_loss, label='Validation Loss')\r\n",
        "plt.legend(loc='upper right')\r\n",
        "plt.title('Training and Validation Loss')\r\n",
        "plt.show()\r\n",
        "\r\n",
        "final_acc = sum(acc)/0.20\r\n",
        "final_val_acc = sum(val_acc)/0.20\r\n",
        "final_loss = sum(loss)/20\r\n",
        "final_val_loss = sum(val_loss)/20\r\n",
        "\r\n",
        "print(final_acc)\r\n",
        "print(final_val_acc)\r\n",
        "print(final_loss)\r\n",
        "print(final_val_loss)"
      ],
      "execution_count": 71,
      "outputs": [
        {
          "output_type": "display_data",
          "data": {
            "image/png": "[encoded data removed]",
            "text/plain": [
              "<Figure size 576x576 with 2 Axes>"
            ]
          },
          "metadata": {
            "tags": [],
            "needs_background": "light"
          }
        },
        {
          "output_type": "stream",
          "text": [
            "88.64420056343079\n",
            "88.27830195426941\n",
            "0.3129306510090828\n",
            "0.36442168429493904\n"
          ],
          "name": "stdout"
        }
      ]
    },
    {
      "cell_type": "code",
      "metadata": {
        "colab": {
          "base_uri": "https://localhost:8080/"
        },
        "id": "wR-e-_sxSggQ",
        "outputId": "cc4eeaed-50d4-463a-a71b-f1b4dfb425d4"
      },
      "source": [
        "!mkdir -p saved_model\r\n",
        "model.save('/content/drive/MyDrive/Water_quality/Colour_model')\r\n",
        "\r\n",
        "my_model = tf.keras.models.load_model('/content/drive/MyDrive/Water_quality/Colour_model')"
      ],
      "execution_count": 81,
      "outputs": [
        {
          "output_type": "stream",
          "text": [
            "INFO:tensorflow:Assets written to: /content/drive/MyDrive/Water_quality/Colour_model/assets\n"
          ],
          "name": "stdout"
        }
      ]
    },
    {
      "cell_type": "markdown",
      "metadata": {
        "id": "CLc6tnnYRP94"
      },
      "source": [
        "Prediction"
      ]
    },
    {
      "cell_type": "code",
      "metadata": {
        "colab": {
          "base_uri": "https://localhost:8080/"
        },
        "id": "3NPBFpziUBxk",
        "outputId": "4ae9b3b0-ef02-45ff-802f-25cc234f061c"
      },
      "source": [
        "img_path = '/content/red.jfif'\r\n",
        "img = keras.preprocessing.image.load_img(\r\n",
        "    img_path, target_size=(img_height, img_width)\r\n",
        ")\r\n",
        "img_array = keras.preprocessing.image.img_to_array(img)\r\n",
        "img_array = tf.expand_dims(img_array, 0) # Create a batch\r\n",
        "\r\n",
        "predictions = model.predict(img_array)\r\n",
        "score = tf.nn.softmax(predictions[0])\r\n",
        "\r\n",
        "print(\r\n",
        "    \"This image most likely belongs to {} with a {:.2f} percent confidence.\"\r\n",
        "    .format(class_names[np.argmax(score)], 100 * np.max(score))\r\n",
        ")\r\n",
        "\r\n",
        "predicted_op = str(class_names[np.argmax(score)])\r\n",
        "if predicted_op == 'Black':\r\n",
        "    print(\"It might contain traces of : black ink\")\r\n",
        "elif predicted_op == 'Blue':\r\n",
        "    print(\"It might contain traces of : copper sluphate\")\r\n",
        "elif predicted_op == 'Brown':\r\n",
        "    print(\"It might contain traces of : mud\")\r\n",
        "elif predicted_op == 'Green':\r\n",
        "    print(\"It might contain traces of : algae\")\r\n",
        "elif predicted_op == 'Red':\r\n",
        "    print(\"It might contain traces of : rust\")\r\n",
        "elif predicted_op == 'White':\r\n",
        "    print(\"It might contain traces of : salt\")\r\n"
      ],
      "execution_count": 82,
      "outputs": [
        {
          "output_type": "stream",
          "text": [
            "This image most likely belongs to Red with a 100.00 percent confidence.\n",
            "It might contain traces of : rust\n"
          ],
          "name": "stdout"
        }
      ]
    }
  ]
}